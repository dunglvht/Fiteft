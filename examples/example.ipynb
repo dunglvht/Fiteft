{
  "cells": [
    {
      "cell_type": "markdown",
      "metadata": {
        "id": "wXTqMrXbsbBV"
      },
      "source": [
        "# Setup, run once"
      ]
    },
    {
      "cell_type": "code",
      "execution_count": 1,
      "metadata": {
        "id": "jM6StPNwgPHu"
      },
      "outputs": [],
      "source": [
        "import sys, os\n",
        "os.chdir('../')\n",
        "import numpy as np\n",
        "import pandas as pd\n",
        "import importlib # for debugging, not necessarily needed\n",
        "import re # for debugging, not necessarily needed\n",
        "import matplotlib # for debugging, not necessarily needed\n",
        "import matplotlib.pyplot as plt # for plotting\n",
        "import matplotlib.patches as mpatches # for plotting\n",
        "from scipy.optimize import minimize\n",
        "import scipy"
      ]
    },
    {
      "cell_type": "markdown",
      "metadata": {
        "id": "blel4N7gLfxp"
      },
      "source": [
        "# Usage\n"
      ]
    },
    {
      "cell_type": "markdown",
      "metadata": {
        "id": "QhKc48sELtqI"
      },
      "source": [
        "In this example section, we will demonstrate the use of Fiteft, with a specific result being ATLAS-CONF-2020-053.<br>\n",
        "First, we `import` the necessary libraries: `numpy`, `pandas`, and `Fiteft`, and initialize a fiteft object.\n",
        "\n"
      ]
    },
    {
      "cell_type": "code",
      "execution_count": 2,
      "metadata": {
        "colab": {
          "base_uri": "https://localhost:8080/"
        },
        "id": "cVSz1kL5LgwF",
        "outputId": "b31f6f65-10e8-4162-f7d3-382cd5cd1f7f"
      },
      "outputs": [
        {
          "name": "stdout",
          "output_type": "stream",
          "text": [
            "Your input to the likelihood function is a DataFrame with at least one of these colums:\n",
            "['c(3)Hq', 'c[1]HW-HB-HWB-HDD-uW-uB', 'c[2]HW-HB-HWB-HDD-uW-uB', 'c[3]HW-HB-HWB-HDD-uW-uB', 'c[1]Hu-Hd-Hq(1)', 'c[1]Hl(1)-He', 'c[1]Hl(3)-ll0', 'c[1]HG-uG-uH-top', 'c[2]HG-uG-uH-top', 'c[3]HG-uG-uH-top']\n"
          ]
        }
      ],
      "source": [
        "import numpy as np\n",
        "import pandas as pd\n",
        "import sys # for debugging, not necessarily needed\n",
        "import importlib # for debugging, not necessarily needed\n",
        "import Fiteft as Fiteft # Colab specific, if not using colab, use: import Fiteft as Fiteft\n",
        "f = Fiteft.fiteft()"
      ]
    },
    {
      "cell_type": "markdown",
      "metadata": {
        "id": "-2wI6M0iQ6C5"
      },
      "source": [
        "We can start calculating the likelihood with the **c'** vector values as follows $(0,0,0,0,0,0,0,0,0,0)$, with the values arranged in the order written above. We will begin by initializing a vector named `arr` with the shape (1,10)"
      ]
    },
    {
      "cell_type": "code",
      "execution_count": 4,
      "metadata": {
        "colab": {
          "base_uri": "https://localhost:8080/"
        },
        "id": "era9a9frN6gC",
        "outputId": "52ae4325-7b33-4f9f-e27c-a073e11396f5"
      },
      "outputs": [
        {
          "data": {
            "text/plain": [
              "array([[0., 0., 0., 0., 0., 0., 0., 0., 0., 0.]])"
            ]
          },
          "execution_count": 4,
          "metadata": {},
          "output_type": "execute_result"
        }
      ],
      "source": [
        "arr = np.zeros((1,10))\n",
        "arr"
      ]
    },
    {
      "cell_type": "markdown",
      "metadata": {
        "id": "-C0b6dhvyw7W"
      },
      "source": [
        "Next, we will use `arr` as an argument for the function `fiteft.l()`"
      ]
    },
    {
      "cell_type": "code",
      "execution_count": 5,
      "metadata": {
        "colab": {
          "base_uri": "https://localhost:8080/"
        },
        "id": "BCAyXkKoOrDA",
        "outputId": "f963ce38-fe5c-45a7-802c-2791b783b80f"
      },
      "outputs": [
        {
          "data": {
            "text/plain": [
              "array([[[39.28929247]]])"
            ]
          },
          "execution_count": 5,
          "metadata": {},
          "output_type": "execute_result"
        }
      ],
      "source": [
        "f.l(arr)"
      ]
    },
    {
      "cell_type": "markdown",
      "metadata": {
        "id": "YphuGRBZSouM"
      },
      "source": [
        "We will find the minimum of the above likelihood function with the help of the minimize function from the `minimize` function from the `scipy`.  library. One important point about the input of the `minimize()` function is:\n",
        "\n",
        "`fun(x)` is a function that returns a value of type `float`, and the input value is a numpy array with shape `x(n,)` where n is the number of parameters. Our likelihood function has the form `x(1,n) -> fx(1,1,1)`, so we need to perform the following transformation:\n",
        "\n",
        " $\\underbrace{\\texttt{x(n,)->}\\overbrace{\\texttt{x(1,n)->fx(1,1,1)}}^{\\texttt{fiteft.l}}\\texttt{-> fx(float)}}_{\\texttt{fun}}$\n",
        "\n",
        "We do this by asigning `fun` through a `lambda` function as follows:"
      ]
    },
    {
      "cell_type": "code",
      "execution_count": 6,
      "metadata": {
        "id": "CJCkWPfiOssb"
      },
      "outputs": [],
      "source": [
        "fun = lambda x: f.l(x.reshape(1,-1))[0,0,0]"
      ]
    },
    {
      "cell_type": "markdown",
      "metadata": {
        "id": "5FmWNnvwVu-0"
      },
      "source": [
        "To check, we will use an array with shape (10,)"
      ]
    },
    {
      "cell_type": "code",
      "execution_count": 7,
      "metadata": {
        "colab": {
          "base_uri": "https://localhost:8080/"
        },
        "id": "ScZM5TYTVtRM",
        "outputId": "b39e5cee-10bc-44ce-8af1-b8a56f6b0e01"
      },
      "outputs": [
        {
          "data": {
            "text/plain": [
              "(10,)"
            ]
          },
          "execution_count": 7,
          "metadata": {},
          "output_type": "execute_result"
        }
      ],
      "source": [
        "arr = np.zeros(10)\n",
        "arr.shape"
      ]
    },
    {
      "cell_type": "markdown",
      "metadata": {
        "id": "wK0YDlzNyqd8"
      },
      "source": [
        " then put it in `fun()` as argument. The wanted return value should be a number type `float`"
      ]
    },
    {
      "cell_type": "code",
      "execution_count": 8,
      "metadata": {
        "colab": {
          "base_uri": "https://localhost:8080/"
        },
        "id": "F61ugbI5WFU2",
        "outputId": "54d1c234-bde1-4db6-f5a4-9052a8f5776c"
      },
      "outputs": [
        {
          "data": {
            "text/plain": [
              "39.289292468722365"
            ]
          },
          "execution_count": 8,
          "metadata": {},
          "output_type": "execute_result"
        }
      ],
      "source": [
        "fun(arr)"
      ]
    },
    {
      "cell_type": "markdown",
      "metadata": {
        "id": "l4rNEG0VWK1Y"
      },
      "source": [
        "And so, we have defined a new function that uses an array with input shape (n,) and output as `float`. This result meets the conditions for the function of the `minimize` function. Now we can start finding the minimum using the `minimize` function with the starting point being $\\boldsymbol{0}$ (an array where all parameters are zero)."
      ]
    },
    {
      "cell_type": "code",
      "execution_count": 9,
      "metadata": {
        "colab": {
          "base_uri": "https://localhost:8080/"
        },
        "id": "XGaQXvGeWIly",
        "outputId": "9cd3e36b-a785-41a8-b881-fe531b110f89"
      },
      "outputs": [
        {
          "data": {
            "text/plain": [
              "  message: Desired error not necessarily achieved due to precision loss.\n",
              "  success: False\n",
              "   status: 2\n",
              "      fun: 27.391502321886623\n",
              "        x: [-5.262e-02 -1.140e-02  2.144e-01 -3.808e+00 -6.253e-01\n",
              "             1.838e+01 -1.392e+00  4.151e-03  6.644e-02  8.962e-01]\n",
              "      nit: 33\n",
              "      jac: [ 1.192e-06  4.029e-05  9.060e-06  1.001e-05 -4.768e-07\n",
              "             2.146e-06 -3.576e-06  6.328e-04 -2.384e-07 -3.576e-06]\n",
              " hess_inv: [[ 1.445e-03  1.219e-04 ...  2.940e-03 -1.642e-03]\n",
              "            [ 1.219e-04  7.498e-05 ...  9.721e-04  1.449e-03]\n",
              "            ...\n",
              "            [ 2.940e-03  9.721e-04 ...  4.967e-02  2.122e-02]\n",
              "            [-1.642e-03  1.449e-03 ...  2.122e-02  4.947e-01]]\n",
              "     nfev: 462\n",
              "     njev: 42"
            ]
          },
          "execution_count": 9,
          "metadata": {},
          "output_type": "execute_result"
        }
      ],
      "source": [
        "minimize(fun = fun, x0 = np.zeros(10))"
      ]
    },
    {
      "cell_type": "markdown",
      "metadata": {
        "id": "hQPjeE7UW4GV"
      },
      "source": [
        "The returned result is `False`, which does not mean the result is incorrect, but rather because the derivative of the likelihood function has not reached a sufficiently small level to be considered accurate. By default, this level is set to $10^{-6}$. We will change this threshold to a larger value to make it easier for the derivative condition to be satisfied. Here, we will use the argument `options = {'gtol': 1e-3}`"
      ]
    },
    {
      "cell_type": "code",
      "execution_count": 10,
      "metadata": {
        "colab": {
          "base_uri": "https://localhost:8080/"
        },
        "id": "QEWDB-WeW2Xv",
        "outputId": "21aecb92-e39c-4768-f453-458b2bc3b1bb"
      },
      "outputs": [
        {
          "data": {
            "text/plain": [
              "  message: Optimization terminated successfully.\n",
              "  success: True\n",
              "   status: 0\n",
              "      fun: 27.391502321886623\n",
              "        x: [-5.262e-02 -1.140e-02  2.144e-01 -3.808e+00 -6.253e-01\n",
              "             1.838e+01 -1.392e+00  4.151e-03  6.644e-02  8.962e-01]\n",
              "      nit: 32\n",
              "      jac: [ 1.192e-06  3.958e-05  9.298e-06  1.049e-05 -7.153e-07\n",
              "             2.384e-06 -3.576e-06  6.330e-04 -4.768e-07 -4.053e-06]\n",
              " hess_inv: [[ 2.079e-03 -2.024e-05 ...  1.680e-03  1.511e-03]\n",
              "            [-2.024e-05  1.059e-04 ...  1.246e-03  8.496e-04]\n",
              "            ...\n",
              "            [ 1.680e-03  1.246e-03 ...  5.210e-02  1.578e-02]\n",
              "            [ 1.511e-03  8.496e-04 ...  1.578e-02  5.023e-01]]\n",
              "     nfev: 407\n",
              "     njev: 37"
            ]
          },
          "execution_count": 10,
          "metadata": {},
          "output_type": "execute_result"
        }
      ],
      "source": [
        "res = minimize(fun = fun, x0 = np.zeros(10), options = {'gtol':1e-3})\n",
        "res"
      ]
    },
    {
      "cell_type": "markdown",
      "metadata": {
        "id": "uE7NN-oUX0Hi"
      },
      "source": [
        "The returned result is successful, indicating that the `minimize` function has found the minimum value of the likelihood function to be $\\mathcal{L}(\\hat{\\boldsymbol{c}})=27.3915$. The corresponding optimal parameters $\\hat{\\boldsymbol{c}}$ are stored in `res.x`, the gradient $\\frac{\\partial \\mathcal{L}}{\\partial \\boldsymbol{c}'^\\top}$ is stored in `res.jac`, and the inverse Hessian $\\frac{\\partial^2 \\mathcal{L}}{\\partial \\boldsymbol{c}' \\partial \\boldsymbol{c}'^\\top}$ is stored in `res.hess_inv`. We will measure the time taken to perform this operation using the following command"
      ]
    },
    {
      "cell_type": "code",
      "execution_count": 11,
      "metadata": {
        "colab": {
          "base_uri": "https://localhost:8080/"
        },
        "id": "SKmWWGDyYOk-",
        "outputId": "abd528ec-2269-4a77-c3a1-b6b91d4f174a"
      },
      "outputs": [
        {
          "name": "stdout",
          "output_type": "stream",
          "text": [
            "3.05 s ± 123 ms per loop (mean ± std. dev. of 7 runs, 1 loop each)\n"
          ]
        }
      ],
      "source": [
        "%%timeit\n",
        "minimize(fun = fun, x0 = np.zeros(10), options = {'gtol':1e-3})"
      ]
    },
    {
      "cell_type": "markdown",
      "metadata": {
        "id": "4dGkEtiPYanj"
      },
      "source": [
        "The time taken to find this minimum is approximately 3.05 seconds starting with all parameters at value 0.\n",
        "\n",
        "We can significantly improve the minimization function by incorporating the derivative calculation of `fiteft` into it. I'll name this function `fun2`, which takes an input array of shape $(10,)$ and returns an output array of shape $(10,)$, set up similarly to the likelihood function as described earlier. The `fun2` function will have an algorithm structured as follows:\n",
        "\n",
        " $\\underbrace{\\texttt{x(n,)->}\\overbrace{\\texttt{x(1,n)->fx(1,1,n)}}^{\\texttt{fiteft.dl}}\\texttt{-> fx(n,)}}_{\\texttt{fun2}}$\n"
      ]
    },
    {
      "cell_type": "code",
      "execution_count": 12,
      "metadata": {
        "colab": {
          "base_uri": "https://localhost:8080/"
        },
        "id": "Q-R3moGaYa8D",
        "outputId": "3b706fb1-9770-4466-fd0e-5d96b0f35f36"
      },
      "outputs": [],
      "source": [
        "fun2 = lambda x: f.dl(x.reshape(1,-1))[0,0]"
      ]
    },
    {
      "cell_type": "markdown",
      "metadata": {
        "id": "H0QtpvCbwELs"
      },
      "source": [
        "Using this function with an argument as an array of shape $(10,)$, we have:"
      ]
    },
    {
      "cell_type": "code",
      "execution_count": 13,
      "metadata": {
        "colab": {
          "base_uri": "https://localhost:8080/"
        },
        "id": "f5m8_AnWgosQ",
        "outputId": "b26d8643-a485-4af6-aafd-2c15f30825df"
      },
      "outputs": [
        {
          "data": {
            "text/plain": [
              "array([ 1.74947677e+01,  1.19368262e+03,  4.69186152e-01,  4.96926121e+00,\n",
              "       -5.59564136e+00,  2.77503991e+00, -1.56736581e+01,  1.22274234e+03,\n",
              "       -8.44857583e+00, -8.51474262e+00])"
            ]
          },
          "execution_count": 13,
          "metadata": {},
          "output_type": "execute_result"
        }
      ],
      "source": [
        "arr = np.zeros(10)\n",
        "fun2(arr)"
      ]
    },
    {
      "cell_type": "markdown",
      "metadata": {
        "id": "zo_3a4TFh2WF"
      },
      "source": [
        "To use the `minimize` function again, but this time incorporating the derivative function `fun2` as an argument using `jac=fun2`, where jac stands for Jacobian, you can proceed with the following code"
      ]
    },
    {
      "cell_type": "code",
      "execution_count": 14,
      "metadata": {
        "colab": {
          "base_uri": "https://localhost:8080/"
        },
        "id": "mdjF4KTnh8Cu",
        "outputId": "5c1a7815-7e69-484d-c7bc-a819afab3a26"
      },
      "outputs": [
        {
          "data": {
            "text/plain": [
              "  message: Optimization terminated successfully.\n",
              "  success: True\n",
              "   status: 0\n",
              "      fun: 27.39150232202947\n",
              "        x: [-5.262e-02 -1.140e-02  2.144e-01 -3.808e+00 -6.253e-01\n",
              "             1.838e+01 -1.392e+00  4.151e-03  6.644e-02  8.962e-01]\n",
              "      nit: 32\n",
              "      jac: [-4.769e-07  2.003e-05  5.722e-06  5.007e-06  2.384e-07\n",
              "            -2.384e-07 -1.431e-06  3.565e-04 -2.384e-07 -2.384e-06]\n",
              " hess_inv: [[ 2.090e-03 -2.388e-05 ...  1.650e-03  1.484e-03]\n",
              "            [-2.388e-05  1.065e-04 ...  1.250e-03  8.502e-04]\n",
              "            ...\n",
              "            [ 1.650e-03  1.250e-03 ...  5.212e-02  1.573e-02]\n",
              "            [ 1.484e-03  8.502e-04 ...  1.573e-02  5.022e-01]]\n",
              "     nfev: 37\n",
              "     njev: 37"
            ]
          },
          "execution_count": 14,
          "metadata": {},
          "output_type": "execute_result"
        }
      ],
      "source": [
        "res = minimize(fun = fun, x0 = np.zeros(10), jac = fun2, options = {'gtol':1e-3})\n",
        "res"
      ]
    },
    {
      "cell_type": "markdown",
      "metadata": {
        "id": "z_CFfsvBxHFn"
      },
      "source": [
        "In order to see the improvement, we measure the time to run the minimization process as follow"
      ]
    },
    {
      "cell_type": "code",
      "execution_count": 15,
      "metadata": {
        "colab": {
          "base_uri": "https://localhost:8080/"
        },
        "id": "CkFnhL-2kPkg",
        "outputId": "312068a1-7581-402b-b6b4-5750de997561"
      },
      "outputs": [
        {
          "name": "stdout",
          "output_type": "stream",
          "text": [
            "830 ms ± 42.1 ms per loop (mean ± std. dev. of 7 runs, 1 loop each)\n"
          ]
        }
      ],
      "source": [
        "%%timeit\n",
        "minimize(fun = fun, x0 = np.zeros(10), jac = fun2, options = {'gtol':1e-3})"
      ]
    },
    {
      "cell_type": "markdown",
      "metadata": {
        "id": "70yLg6C3km4I"
      },
      "source": [
        "And the time to find the minimum has been significantly improved, from 3 seconds (can vary depends on the machine) down to 0.83 seconds (can vary depends on the machine). While we are currently calculating the minimum using numerical derivatives, by leveraging the power of the numpy library, we have reduced the computation time by more than three times. If we use the results from analytical derivatives, the computation time can be reduced even further. In the current version of Fiteft, there is no function for calculating analytical derivatives, but this feature will be available in future improvements."
      ]
    },
    {
      "cell_type": "markdown",
      "metadata": {
        "id": "dpDEcUDtzbaU"
      },
      "source": [
        "## profiling"
      ]
    },
    {
      "cell_type": "markdown",
      "metadata": {
        "id": "DQRWNL5ak0z0"
      },
      "source": [
        "After finding $\\hat{\\boldsymbol{c}'}$, we can start calculating the profile likelihood $\\mathcal{L}(c'_i,\\hat{\\overline{\\boldsymbol{c}'}}_i)$. We will need to write a new function to use in the minimize function. This function will take a array of shape (m-1,) where m-1 is the number of parameters in $\\overline{\\boldsymbol{c}'}_i$ and return a `float ` result:\n",
        "\n",
        " $\\underbrace{\\texttt{x(n,)->}\\overbrace{\\texttt{x(1,n)->fx(1,1,n)}}^{\\texttt{fiteft.l\\_profile}}\\texttt{-> fx(float)}}_{\\texttt{fun3}}$\n",
        "\n",
        "We will do this using a `lambda` function and name it `fun3`.\n",
        "\n",
        "This function will take an argument that is an array of shape (9,) instead of (10,), representing the parameters other than the one under consideration $c_i$.\n",
        "\n",
        "Here is an example of the function $\\mathcal{L}(c'_i=0,\\overline{\\boldsymbol{c}'}_i)$ with $i$ being `c(3)Hq`. We will use an array of zeros with shape $(9,)$ as the argument for the function `fun3`, with the expected result being a scalar quantity of type `float`.\n"
      ]
    },
    {
      "cell_type": "markdown",
      "metadata": {
        "id": "RR9w_Lo41aU4"
      },
      "source": [
        "Example 1"
      ]
    },
    {
      "cell_type": "code",
      "execution_count": null,
      "metadata": {
        "colab": {
          "base_uri": "https://localhost:8080/"
        },
        "id": "ZNA4hd1Z0bmk",
        "outputId": "8f3d6c72-6bb1-47a6-9868-c5c3179f7996"
      },
      "outputs": [
        {
          "data": {
            "text/plain": [
              "39.289292468722365"
            ]
          },
          "execution_count": 40,
          "metadata": {},
          "output_type": "execute_result"
        }
      ],
      "source": [
        "fun3 = lambda x: f.l_profile(x.reshape(1,-1), loc='c(3)Hq', val=0)[0,0,0]\n",
        "arr = np.zeros(9)\n",
        "fun3(arr)"
      ]
    },
    {
      "cell_type": "markdown",
      "metadata": {
        "id": "i1OFvgw-1b3k"
      },
      "source": [
        "Example 2"
      ]
    },
    {
      "cell_type": "code",
      "execution_count": null,
      "metadata": {
        "colab": {
          "base_uri": "https://localhost:8080/"
        },
        "id": "qFjgSe3909bz",
        "outputId": "5a6844a6-0bf0-43aa-dcb8-fb0c192247b2"
      },
      "outputs": [
        {
          "data": {
            "text/plain": [
              "39.289292468722365"
            ]
          },
          "execution_count": 41,
          "metadata": {},
          "output_type": "execute_result"
        }
      ],
      "source": [
        "fun3 = lambda x: f.l_profile(x.reshape(1,-1), loc=0, val=0)[0,0,0]\n",
        "arr = np.zeros(9)\n",
        "fun3(arr)"
      ]
    },
    {
      "cell_type": "markdown",
      "metadata": {
        "id": "ZUg5oYxC1eZY"
      },
      "source": [
        "Both examples return the same result, so the user can choose either. Next, we will use the function `fun3` as an argument for the `minimize` function with the following command"
      ]
    },
    {
      "cell_type": "code",
      "execution_count": null,
      "metadata": {
        "colab": {
          "base_uri": "https://localhost:8080/"
        },
        "id": "wM1_M7C-1g8T",
        "outputId": "875c219e-22cd-4352-cd92-861da2aed37f"
      },
      "outputs": [
        {
          "data": {
            "text/plain": [
              "  message: Optimization terminated successfully.\n",
              "  success: True\n",
              "   status: 0\n",
              "      fun: 28.060463368519766\n",
              "        x: [-1.202e-02  5.068e-01 -3.097e+00 -4.279e-01  1.282e+01\n",
              "            -1.250e+00  3.262e-03  1.057e-01  9.461e-01]\n",
              "      nit: 26\n",
              "      jac: [-1.945e-03 -5.174e-05 -3.052e-05 -2.861e-06 -5.960e-06\n",
              "             4.983e-05 -4.318e-04  7.153e-07  1.836e-05]\n",
              " hess_inv: [[ 9.790e-05 -1.540e-03 ...  1.178e-03  2.458e-04]\n",
              "            [-1.540e-03  5.395e-02 ... -9.581e-03  1.294e-02]\n",
              "            ...\n",
              "            [ 1.178e-03 -9.581e-03 ...  4.826e-02  2.982e-03]\n",
              "            [ 2.458e-04  1.294e-02 ...  2.982e-03  3.895e-01]]\n",
              "     nfev: 300\n",
              "     njev: 30"
            ]
          },
          "execution_count": 44,
          "metadata": {},
          "output_type": "execute_result"
        }
      ],
      "source": [
        "res = minimize(fun = fun3, x0 = np.zeros(9), options = {'gtol' : 1e-2})\n",
        "res"
      ]
    },
    {
      "cell_type": "markdown",
      "metadata": {
        "id": "G3oFMjFp2JK8"
      },
      "source": [
        "We see that the `minimize` function, starting with all parameters at value 0 and fixing the parameter `c(3)Hq` at value 0, returns the minimum value of the likelihood function $\\mathcal{L}(c'_i=0,\\hat{\\overline{\\boldsymbol{c}'}_i})=28.06$, with the value $\\hat{\\overline{\\boldsymbol{c}}_i}$ is in `res.x`, $\\frac{\\partial \\mathcal{L}(c_i=0)}{\\partial \\overline{ \\boldsymbol{c}'}_i^\\top}$ is in `res.jac`, $\\frac{\\partial^2 \\mathcal{L}}{\\partial \\overline{ \\boldsymbol{c}'}_i \\partial \\overline{ \\boldsymbol{c}'}_i^\\top}$ is in `res.hess_inv`."
      ]
    },
    {
      "cell_type": "markdown",
      "metadata": {
        "id": "1EctK4lA0vJW"
      },
      "source": [
        "The time taken to perform this task is:"
      ]
    },
    {
      "cell_type": "code",
      "execution_count": null,
      "metadata": {
        "colab": {
          "base_uri": "https://localhost:8080/"
        },
        "id": "OxcT-MMz2nEL",
        "outputId": "df7cc9f8-420f-4901-d43d-698be101df6a"
      },
      "outputs": [
        {
          "name": "stdout",
          "output_type": "stream",
          "text": [
            "10.6 s ± 1.59 s per loop (mean ± std. dev. of 7 runs, 1 loop each)\n"
          ]
        }
      ],
      "source": [
        "%%timeit\n",
        "res = minimize(fun = fun3, x0 = np.zeros(9), options = {'gtol' : 1e-2})"
      ]
    },
    {
      "cell_type": "markdown",
      "metadata": {
        "id": "NSsB0Akg2n9z"
      },
      "source": [
        "We see that the time taken to find the minimum is about 11 seconds. We can improve this task by providing the minimization function with an argument that is a function to compute the minimum, using the function `fiteft.dl_profile()`. This minimization function has the following characteristics:\n",
        "\n",
        " $\\underbrace{\\texttt{x(n,)->}\\overbrace{\\texttt{x(1,n)->fx(1,1,n)}}^{\\texttt{fiteft.dl\\_profile}}\\texttt{-> fx(n,)}}_{\\texttt{fun4}}$\n",
        "\n",
        "Below is how to setup `fun4`"
      ]
    },
    {
      "cell_type": "code",
      "execution_count": null,
      "metadata": {
        "colab": {
          "base_uri": "https://localhost:8080/"
        },
        "id": "5HDaStZ64Tg_",
        "outputId": "cdca6e37-8a46-4267-9eb8-2a85b69b3ea4"
      },
      "outputs": [
        {
          "data": {
            "text/plain": [
              "array([ 1.19368262e+03,  4.69186152e-01,  4.96926121e+00, -5.59564136e+00,\n",
              "        2.77503991e+00, -1.56736581e+01,  1.22274234e+03, -8.44857583e+00,\n",
              "       -8.51474262e+00])"
            ]
          },
          "execution_count": 47,
          "metadata": {},
          "output_type": "execute_result"
        }
      ],
      "source": [
        "fun4 = lambda x: f.dl_profile(x.reshape(1,-1), loc='c(3)Hq', val=0)[0,0]\n",
        "arr = np.zeros(9)\n",
        "fun4(arr)"
      ]
    },
    {
      "cell_type": "code",
      "execution_count": null,
      "metadata": {
        "colab": {
          "base_uri": "https://localhost:8080/"
        },
        "id": "pX3CU-OA4i68",
        "outputId": "9f66e78d-6317-496a-e0d8-be371d951e4e"
      },
      "outputs": [
        {
          "data": {
            "text/plain": [
              "array([ 1.19368262e+03,  4.69186152e-01,  4.96926121e+00, -5.59564136e+00,\n",
              "        2.77503991e+00, -1.56736581e+01,  1.22274234e+03, -8.44857583e+00,\n",
              "       -8.51474262e+00])"
            ]
          },
          "execution_count": 48,
          "metadata": {},
          "output_type": "execute_result"
        }
      ],
      "source": [
        "fun4 = lambda x: f.dl_profile(x.reshape(1,-1), loc= 0, val=0)[0,0]\n",
        "arr = np.zeros(9)\n",
        "fun4(arr)"
      ]
    },
    {
      "cell_type": "markdown",
      "metadata": {
        "id": "OxN4xqoD4qwB"
      },
      "source": [
        "We use `fun4` as an argument for `minimize` function"
      ]
    },
    {
      "cell_type": "code",
      "execution_count": null,
      "metadata": {
        "colab": {
          "base_uri": "https://localhost:8080/"
        },
        "id": "a091DOgs439E",
        "outputId": "0c791c64-8242-4683-b7b9-0caed622a6f5"
      },
      "outputs": [
        {
          "data": {
            "text/plain": [
              "  message: Optimization terminated successfully.\n",
              "  success: True\n",
              "   status: 0\n",
              "      fun: 28.060463368585722\n",
              "        x: [-1.202e-02  5.068e-01 -3.097e+00 -4.279e-01  1.282e+01\n",
              "            -1.250e+00  3.262e-03  1.057e-01  9.461e-01]\n",
              "      nit: 26\n",
              "      jac: [-1.757e-03 -4.912e-05 -3.076e-05 -3.100e-06 -5.961e-06\n",
              "             4.697e-05 -2.737e-04  9.537e-07  1.764e-05]\n",
              " hess_inv: [[ 9.749e-05 -1.536e-03 ...  1.169e-03  2.606e-04]\n",
              "            [-1.536e-03  5.392e-02 ... -9.473e-03  1.268e-02]\n",
              "            ...\n",
              "            [ 1.169e-03 -9.473e-03 ...  4.809e-02  3.115e-03]\n",
              "            [ 2.606e-04  1.268e-02 ...  3.115e-03  3.902e-01]]\n",
              "     nfev: 30\n",
              "     njev: 30"
            ]
          },
          "execution_count": 49,
          "metadata": {},
          "output_type": "execute_result"
        }
      ],
      "source": [
        "res = minimize(fun = fun3, x0 = np.zeros(9), jac = fun4 , options = {'gtol' : 1e-2})\n",
        "res"
      ]
    },
    {
      "cell_type": "markdown",
      "metadata": {
        "id": "ckzVKyu14_nz"
      },
      "source": [
        "Time to perform this task is:"
      ]
    },
    {
      "cell_type": "code",
      "execution_count": null,
      "metadata": {
        "colab": {
          "base_uri": "https://localhost:8080/"
        },
        "id": "hWSJ9alI5Fhy",
        "outputId": "df9e6863-9989-4bbd-91b4-bb5b583f9ade"
      },
      "outputs": [
        {
          "name": "stdout",
          "output_type": "stream",
          "text": [
            "2.51 s ± 573 ms per loop (mean ± std. dev. of 7 runs, 1 loop each)\n"
          ]
        }
      ],
      "source": [
        "%%timeit\n",
        "res = minimize(fun = fun3, x0 = np.zeros(9), jac = fun4 , options = {'gtol' : 1e-2})"
      ]
    },
    {
      "cell_type": "markdown",
      "metadata": {
        "id": "jv7u_NE65ol3"
      },
      "source": [
        "We have thus reduced the computation time from 11 seconds to 2.5 seconds. We can see that providing a function to compute the gradient for the `minimize` function, while not affecting the result, significantly impacts the computation speed. We can also provide a function to compute the second-order derivative, and this will be improved in the next version, along with the formula for computing the analytic gradient."
      ]
    },
    {
      "cell_type": "markdown",
      "metadata": {
        "id": "B8j6bsrI99P6"
      },
      "source": [
        "## Determining confidence interval"
      ]
    },
    {
      "cell_type": "markdown",
      "metadata": {
        "id": "8qeeJPCR6lRl"
      },
      "source": [
        "Now we have all the necessary components to calculate the confidence interval for the likelihood function for any given parameter. We will scan through the values of the profile likelihood function $\\mathcal{L}(c'_i,\\hat{\\overline{\\boldsymbol{c}'}_i})$, with $c'_i$ ranging within a certain interval determined by\n",
        "\n",
        "$|c_i| <\\alpha\\times \\sqrt{\\left[\\frac{\\partial^2 \\mathcal{L}}{\\partial \\boldsymbol{c}' \\partial \\boldsymbol{c}'^\\top}|_{\\boldsymbol{c}'=\\hat{\\boldsymbol{c'}}}\\right](i,i)}$ where $\\alpha\\in \\mathcal{O}(1),$\n",
        "\n",
        "In the case of a fully linear scenario, with $\\alpha = 1$ he expression above exactly matches the **bằng khoảng tin cậy** $68\\%$,. However, because our likelihood function contains nonlinear components, what we are assuming here is that the **kconfidence interval will not significantly differ** from the linear case. We will need to scan within such an interval to find the precise values for the confidence interval.\n"
      ]
    },
    {
      "cell_type": "markdown",
      "metadata": {
        "id": "xycOfVdV9kD3"
      },
      "source": [
        "Here is an example of finding the scanning range for the parameter `c(3)Hq`.\n",
        "First, we minimize the likelihood function and use the Hessian matrix to determine the scanning range for the parameter `c(3)Hq`. As before, we define the function `fun` to be used as an argument for the `minimize` function, and `fun2` as the function to compute derivatives:"
      ]
    },
    {
      "cell_type": "code",
      "execution_count": null,
      "metadata": {
        "colab": {
          "base_uri": "https://localhost:8080/"
        },
        "id": "Dd94OWib-Ark",
        "outputId": "68572aea-7e0f-4eeb-a664-2c14611f934d"
      },
      "outputs": [
        {
          "data": {
            "text/plain": [
              "  message: Optimization terminated successfully.\n",
              "  success: True\n",
              "   status: 0\n",
              "      fun: 27.39150232202947\n",
              "        x: [-5.262e-02 -1.140e-02  2.144e-01 -3.808e+00 -6.253e-01\n",
              "             1.838e+01 -1.392e+00  4.151e-03  6.644e-02  8.962e-01]\n",
              "      nit: 32\n",
              "      jac: [-4.769e-07  2.003e-05  5.722e-06  5.007e-06  2.384e-07\n",
              "            -2.384e-07 -1.431e-06  3.565e-04 -2.384e-07 -2.384e-06]\n",
              " hess_inv: [[ 2.090e-03 -2.388e-05 ...  1.650e-03  1.484e-03]\n",
              "            [-2.388e-05  1.065e-04 ...  1.250e-03  8.502e-04]\n",
              "            ...\n",
              "            [ 1.650e-03  1.250e-03 ...  5.212e-02  1.573e-02]\n",
              "            [ 1.484e-03  8.502e-04 ...  1.573e-02  5.022e-01]]\n",
              "     nfev: 37\n",
              "     njev: 37"
            ]
          },
          "execution_count": 52,
          "metadata": {},
          "output_type": "execute_result"
        }
      ],
      "source": [
        "fun = lambda x: f.l(x.reshape(1,-1))[0,0,0]\n",
        "fun2 = lambda x: f.dl(x.reshape(1,-1))[0,0]\n",
        "res = minimize(fun = fun, x0 = np.zeros(10), jac = fun2, options ={'gtol': 1e-3})\n",
        "res"
      ]
    },
    {
      "cell_type": "markdown",
      "metadata": {
        "id": "W-_-CBT0-9Lp"
      },
      "source": [
        "The value $\\left[\\frac{\\partial^2 \\mathcal{L}}{\\partial \\boldsymbol{c}' \\partial \\boldsymbol{c}'^\\top}|_{\\boldsymbol{c}'=\\hat{\\boldsymbol{c'}}}\\right][0,0]$ epresents the second derivative (Hessian) of the likelihood function with respect to the parameter `c(3)Hq` at the value $\\hat{\\boldsymbol{c}'}$, i.e., $\\frac{\\partial^2 \\mathcal{L}}{\\partial {c}_{(3)Hq}' \\partial {c}_{(3)Hq}'^\\top}|_{\\boldsymbol{c}'=\\hat{\\boldsymbol{c'}}}=$ `res.hess_inv[0,0]`. And that value is"
      ]
    },
    {
      "cell_type": "code",
      "execution_count": null,
      "metadata": {
        "colab": {
          "base_uri": "https://localhost:8080/"
        },
        "id": "7dSF5NNu-zd_",
        "outputId": "47bb0c8a-a156-4031-c951-09e7917eae90"
      },
      "outputs": [
        {
          "data": {
            "text/plain": [
              "0.0020904827414526764"
            ]
          },
          "execution_count": 54,
          "metadata": {},
          "output_type": "execute_result"
        }
      ],
      "source": [
        "res.hess_inv[0,0]"
      ]
    },
    {
      "cell_type": "markdown",
      "metadata": {
        "id": "swcT-S_6Av4s"
      },
      "source": [
        "The scanning range for the parameter `c(3)Hq` will be $\\alpha\\sqrt{0.00209}<c_i<\\alpha\\sqrt{0.00209}$, and we choose $\\alpha = 5$. We will begin scanning the values of `c(3)Hq` and compute the profile likelihood minimum. We will use the previous minimum point as the starting point for each subsequent search because we have enforced that profile likelihood minima satisfy: If two values $c_i'[1]$ and $c_i'[2]$ are close by, then the profiled nuissance parameters vectors $\\hat{\\overline{\\boldsymbol{c}'_i}[1]}$ and $\\hat{\\overline{\\boldsymbol{c}'_i}[2]}$ will also be closeby \n",
        "\n",
        "$c'_i[0] -c_i[1]\\approx 0 \\Rightarrow \\Big|\\hat{\\overline{\\boldsymbol{c}'_i}[1]} -\\hat{\\overline{\\boldsymbol{c}'_i}[2]}\\Big|\\approx 0$\n",
        "\n",
        "We will implement the following algorithm\n",
        "\n",
        "1. Set $\\boldsymbol{a= \\hat{\\overline{\\boldsymbol{c}_i'}}(c_i'=\\hat{c_i'})}$, $b=\\hat{c_i'}$\n",
        "2. Increase $b = b +\\Delta $\n",
        "3. Set starting point of the gradient decent to $\\boldsymbol{a}$. Find profiled nuissance parameters vectors $\\hat{\\overline{\\boldsymbol{c}_i'}}(c_i'=b)$ by minimizing $\\frac{\\partial^2 \\mathcal{L}(c_i' = b)}{\\partial \\overline{\\boldsymbol{c}_i'} \\partial \\overline{\\boldsymbol{c}_i'}^\\top}$.\n",
        "4. Update the starting value $a=\\boldsymbol{\\hat{\\overline{\\boldsymbol{c}_i'}}}(c_i'=b)$\n",
        "5. Return to step 2.\n",
        "\n",
        "We will perform a similar procedure for the left half by reversing step 2: $b = b -\\Delta$"
      ]
    },
    {
      "cell_type": "code",
      "execution_count": null,
      "metadata": {
        "id": "lhQmrw2GBfk5"
      },
      "outputs": [],
      "source": [
        "a = np.delete(res.x, f.C2.get_loc('c(3)Hq'))\n",
        "b0 = res.x[f.C2.get_loc('c(3)Hq')]\n",
        "bmax =  5 * res.hess_inv[f.C2.get_loc('c(3)Hq'),f.C2.get_loc('c(3)Hq')]**0.5\n",
        "ls = []\n",
        "for b in np.linspace(b0, b0 + bmax, 10):\n",
        "  fun3 = lambda x: f.l_profile(x.reshape(1,-1), loc='c(3)Hq', val=b)[0,0,0]\n",
        "  fun4 = lambda x: f.dl_profile(x.reshape(1,-1), loc='c(3)Hq', val=b)[0,0]\n",
        "  res2 = minimize(fun = fun3, x0 = a, jac = fun4, options = {'gtol':1e-3})\n",
        "  a = res2.x\n",
        "  ls.append([b, res2.fun])"
      ]
    },
    {
      "cell_type": "markdown",
      "metadata": {
        "id": "Jxd5L5o25FEg"
      },
      "source": [
        "If we plot the results, we get the following figure"
      ]
    },
    {
      "cell_type": "code",
      "execution_count": null,
      "metadata": {
        "colab": {
          "base_uri": "https://localhost:8080/",
          "height": 447
        },
        "id": "46OGfo4gMXGy",
        "outputId": "6da70b07-5a66-4a6a-9d79-59c6e472ae07"
      },
      "outputs": [
        {
          "data": {
            "text/plain": [
              "[<matplotlib.lines.Line2D at 0x7e2968ed82b0>]"
            ]
          },
          "execution_count": 86,
          "metadata": {},
          "output_type": "execute_result"
        },
        {
          "data": {
            "image/png": "[encoded data removed]",
            "text/plain": [
              "<Figure size 640x480 with 1 Axes>"
            ]
          },
          "metadata": {},
          "output_type": "display_data"
        }
      ],
      "source": [
        "fig, ax = plt.subplots()\n",
        "ax.plot( np.array(ls)[:,0], np.array(ls)[:,1]-np.array(ls)[:,1].min())"
      ]
    },
    {
      "cell_type": "markdown",
      "metadata": {
        "id": "nPMDq09-NwMI"
      },
      "source": [
        "We repeat the same procedure for the left half of the plot and add the results to the list `ls`"
      ]
    },
    {
      "cell_type": "code",
      "execution_count": null,
      "metadata": {
        "id": "hxpxSG5JN3NN"
      },
      "outputs": [],
      "source": [
        "a = np.delete(res.x, f.C2.get_loc('c(3)Hq'))\n",
        "b0 = res.x[f.C2.get_loc('c(3)Hq')]\n",
        "bmax =  5 * res.hess_inv[f.C2.get_loc('c(3)Hq'),f.C2.get_loc('c(3)Hq')]**0.5\n",
        "for b in np.linspace(b0, b0 - bmax, 10):\n",
        "  fun3 = lambda x: f.l_profile(x.reshape(1,-1), loc='c(3)Hq', val=b)[0,0,0]\n",
        "  fun4 = lambda x: f.dl_profile(x.reshape(1,-1), loc='c(3)Hq', val=b)[0,0]\n",
        "  res2 = minimize(fun = fun3, x0 = a, jac = fun4, options = {'gtol':1e-3})\n",
        "  a = res2.x\n",
        "  ls.append([b, res2.fun])"
      ]
    },
    {
      "cell_type": "markdown",
      "metadata": {
        "id": "0e4htdNaOIzq"
      },
      "source": [
        "To plot the figure for both halves, we obtain the profile likelihood function for `c(3)Hq`"
      ]
    },
    {
      "cell_type": "code",
      "execution_count": null,
      "metadata": {
        "colab": {
          "base_uri": "https://localhost:8080/",
          "height": 430
        },
        "id": "IU9Ry-BAOG2v",
        "outputId": "5c451762-5304-4c85-df4d-b775cf511fba"
      },
      "outputs": [
        {
          "data": {
            "image/png": "[encoded data removed]",
            "text/plain": [
              "<Figure size 640x480 with 1 Axes>"
            ]
          },
          "metadata": {},
          "output_type": "display_data"
        }
      ],
      "source": [
        "fig, ax = plt.subplots()\n",
        "df = pd.DataFrame(ls)\n",
        "df = df.sort_values(0, axis=0)\n",
        "ax.plot(df[0],df[1] - df[1].min())\n",
        "ax.set_yticks([0,1,3.84], minor=False)\n",
        "ax.yaxis.grid(True, which='major')"
      ]
    },
    {
      "cell_type": "code",
      "execution_count": null,
      "metadata": {
        "id": "xtD__2yEO7sy"
      },
      "outputs": [],
      "source": []
    }
  ],
  "metadata": {
    "colab": {
      "provenance": []
    },
    "kernelspec": {
      "display_name": "Python 3",
      "name": "python3"
    },
    "language_info": {
      "codemirror_mode": {
        "name": "ipython",
        "version": 3
      },
      "file_extension": ".py",
      "mimetype": "text/x-python",
      "name": "python",
      "nbconvert_exporter": "python",
      "pygments_lexer": "ipython3",
      "version": "3.10.13"
    }
  },
  "nbformat": 4,
  "nbformat_minor": 0
}
